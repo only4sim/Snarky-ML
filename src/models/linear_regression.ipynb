{
 "cells": [
  {
   "cell_type": "markdown",
   "metadata": {},
   "source": [
    "Linear regression is a commonly used model, and it can be translated into o1js.\n",
    "\n",
    "Here's a step-by-step example of how to translate a scikit-learn linear regression model to o1js:\n",
    "\n",
    "**Step 1: Export Model Parameters**\n",
    "\n",
    "In scikit-learn, a linear regression model has two main parameters: the coefficients (`coef_`) and the intercept (`intercept_`). These parameters define the decision boundary of the model.\n",
    "\n",
    "Suppose we have the following scikit-learn model:\n"
   ]
  },
  {
   "cell_type": "code",
   "execution_count": 1,
   "metadata": {
    "ExecuteTime": {
     "end_time": "2024-01-17T18:12:45.177779100Z",
     "start_time": "2024-01-17T18:12:43.744293600Z"
    }
   },
   "outputs": [],
   "source": [
    "from sklearn.linear_model import LinearRegression\n",
    "import numpy as np\n",
    "\n",
    "# Sample data\n",
    "X_train = np.array([[0, 0], [1, 1], [2, 2]])\n",
    "y_train = np.array([0, 1, 2])\n",
    "\n",
    "# Create and fit a linear regression model\n",
    "clf = LinearRegression()\n",
    "clf.fit(X_train, y_train)\n",
    "\n",
    "# Export model parameters\n",
    "coefficients = clf.coef_\n",
    "intercept = clf.intercept_"
   ]
  },
  {
   "cell_type": "code",
   "execution_count": 2,
   "metadata": {
    "ExecuteTime": {
     "end_time": "2024-01-17T18:12:54.973154Z",
     "start_time": "2024-01-17T18:12:54.964000300Z"
    }
   },
   "outputs": [
    {
     "name": "stdout",
     "output_type": "stream",
     "text": [
      "[0.5 0.5]\n",
      "2.220446049250313e-16\n"
     ]
    }
   ],
   "source": [
    "print(coefficients)\n",
    "print(intercept)"
   ]
  },
  {
   "cell_type": "code",
   "execution_count": 3,
   "metadata": {
    "ExecuteTime": {
     "end_time": "2024-01-17T18:12:58.647395200Z",
     "start_time": "2024-01-17T18:12:58.636086500Z"
    }
   },
   "outputs": [
    {
     "name": "stdout",
     "output_type": "stream",
     "text": [
      "[3.]\n"
     ]
    }
   ],
   "source": [
    "input = [2.5, 3.5]\n",
    "output = clf.predict([input])\n",
    "print(output)"
   ]
  },
  {
   "cell_type": "markdown",
   "metadata": {},
   "source": [
    "**Step 2: Map Features**\n",
    "\n",
    "Ensure you have a mapping between the feature names (if available) and their corresponding positions or indices in the input data. In this example, we have two features: Feature 0 and Feature 1."
   ]
  },
  {
   "cell_type": "markdown",
   "metadata": {},
   "source": [
    "**Step 3: Initialize o1js Model**"
   ]
  },
  {
   "cell_type": "markdown",
   "metadata": {},
   "source": [
    "\n",
    "In o1js, we can represent a linear regression model as follows:\n",
    "\n",
    "```typescript\n",
    "const LinearRegression = ZkProgram({\n",
    "    name: 'LinearRegression',\n",
    "    publicOutput: Int64,\n",
    "  methods: {\n",
    "    predict: {\n",
    "      //The quantized input is scaled by sqrt of the n of the zigmoid, because the coefficients*input is scaled by n\n",
    "      privateInputs: [Provable.Array(Int64, 2)],\n",
    "\n",
    "      method(input: Int64[]): Int64 {\n",
    "        const coefficients = [Int64.from(5), Int64.from(5)];\n",
    "        // Negative of the prediction may cause issues\n",
    "        const intercept = Int64.from(0);\n",
    "        let dotProduct = Int64.from(0);\n",
    "\n",
    "        for (let i = 0; i < coefficients.length; i++) {\n",
    "          dotProduct = dotProduct.add(coefficients[i].mul(input[i]));\n",
    "        }\n",
    "\n",
    "        const z = dotProduct.div(10).add(intercept); \n",
    "        return z;\n",
    "    },\n",
    "  },\n",
    "},\n",
    "});\n",
    "```"
   ]
  },
  {
   "cell_type": "markdown",
   "metadata": {},
   "source": [
    "**Step 4: Perform Predictions**\n",
    "\n",
    "Implement the prediction logic in o1js using the `predict` method of the `LinearRegression` class. The prediction involves computing the dot product of coefficients and input features, and adding the intercept.\n",
    "\n",
    "**Step 5: Write Tests**\n",
    "\n",
    "Develop tests to verify that the translated o1js model produces the same or similar predictions as the scikit-learn model on a set of test data. This step is crucial to validate the accuracy of the translation.\n",
    "\n",
    "Here's a simple test case in o1js:\n",
    "\n",
    "```javascript\n",
    "    let input = [Int64.from(25), Int64.from(35)];\n",
    "    const { verificationKey: verificationKey } = await LinearRegression.compile();\n",
    "\n",
    "    console.log('making proof')\n",
    "    const proof = await LinearRegression.predict(input);\n",
    "\n",
    "    console.log('verifying proof');\n",
    "\n",
    "    let output = Int64.from(3);\n",
    "    proof.publicOutput.div(10).assertEquals(output);\n",
    "\n",
    "    const ok = await verify(proof.toJSON(), verificationKey);\n",
    "    console.log('ok', ok);\n",
    "```\n",
    "\n",
    "This code sets up the o1js linear regression model and performs a prediction on a test input.\n",
    "\n",
    "**Step 6: Optimize and Validate**\n",
    "\n",
    "Optimize the o1js model for efficiency and validate its accuracy against the scikit-learn model on various datasets. Ensure that the translated model behaves consistently with the original scikit-learn model."
   ]
  }
 ],
 "metadata": {
  "kernelspec": {
   "display_name": "Python 3",
   "language": "python",
   "name": "python3"
  },
  "language_info": {
   "codemirror_mode": {
    "name": "ipython",
    "version": 3
   },
   "file_extension": ".py",
   "mimetype": "text/x-python",
   "name": "python",
   "nbconvert_exporter": "python",
   "pygments_lexer": "ipython3",
   "version": "3.11.6"
  }
 },
 "nbformat": 4,
 "nbformat_minor": 2
}
